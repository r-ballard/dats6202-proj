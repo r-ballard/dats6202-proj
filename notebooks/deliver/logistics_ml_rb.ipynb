{
 "cells": [
  {
   "cell_type": "markdown",
   "id": "6fff4ffe-12b8-4258-9f46-566711ba151b",
   "metadata": {
    "jp-MarkdownHeadingCollapsed": true
   },
   "source": [
    "# Table of Contents\n",
    "\n",
    "1. [Introduction](#introduction)"
   ]
  },
  {
   "cell_type": "markdown",
   "id": "827c582b-857e-422e-afc9-f2ead7908726",
   "metadata": {},
   "source": [
    "# Introduction\n",
    "<a id = \"introduction\"></a>"
   ]
  },
  {
   "cell_type": "code",
   "execution_count": 1,
   "id": "29e6e933-a406-423e-a325-9abc91924a26",
   "metadata": {},
   "outputs": [],
   "source": [
    "import pandas as pd\n",
    "import sklearn as sk\n",
    "import numpy as np\n",
    "import os\n",
    "\n",
    "import matplotlib.pyplot as plt\n",
    "%matplotlib inline \n",
    "\n",
    "'''%tensorflow_version 2.x \n",
    "import tensorflow as tf\n",
    "from tensorflow import keras'''\n",
    "\n",
    "np.random.seed(20052)"
   ]
  },
  {
   "cell_type": "code",
   "execution_count": 2,
   "id": "111b6cf0-a546-4796-b523-b50591b207d7",
   "metadata": {},
   "outputs": [],
   "source": [
    "proj_path = 'C:/Users/russe/Documents/github/dats6202/dats6202-proj/'\n",
    "extracted_dir = 'data/source/extracted/'"
   ]
  },
  {
   "cell_type": "code",
   "execution_count": null,
   "id": "531f005b-0ffa-4c32-94af-3e763f323296",
   "metadata": {},
   "outputs": [],
   "source": [
    "dimensiontables_path = os.path.join(proj_path,extracted_dir,'DimensionTables.xlsx')\n",
    "df_driver_raw = pd.read_excel(dimensiontables_path, sheet_name=0)\n",
    "df_vehic_raw = pd.read_excel(dimensiontables_path, sheet_name=1)\n",
    "df_cust_raw = pd.read_excel(dimensiontables_path, sheet_name=2)"
   ]
  },
  {
   "cell_type": "code",
   "execution_count": 10,
   "id": "ff40858b-6e7a-44e5-ab69-aa2a3665b7a5",
   "metadata": {},
   "outputs": [],
   "source": [
    "fcosts_path = os.path.join(proj_path,extracted_dir,'fCosts.xlsx')"
   ]
  },
  {
   "cell_type": "code",
   "execution_count": 14,
   "id": "546a6a3a-477c-46e1-bd5c-ebf2279de43d",
   "metadata": {},
   "outputs": [],
   "source": [
    "#This requires preprocessing\n",
    "#test.head()\n",
    "df_fixedcosts_raw = pd.read_excel(fcosts_path, sheet_name=0)"
   ]
  },
  {
   "cell_type": "code",
   "execution_count": 12,
   "id": "47ed2643-b395-421d-84ee-23db8d667661",
   "metadata": {},
   "outputs": [
    {
     "data": {
      "text/html": [
       "<div>\n",
       "<style scoped>\n",
       "    .dataframe tbody tr th:only-of-type {\n",
       "        vertical-align: middle;\n",
       "    }\n",
       "\n",
       "    .dataframe tbody tr th {\n",
       "        vertical-align: top;\n",
       "    }\n",
       "\n",
       "    .dataframe thead th {\n",
       "        text-align: right;\n",
       "    }\n",
       "</style>\n",
       "<table border=\"1\" class=\"dataframe\">\n",
       "  <thead>\n",
       "    <tr style=\"text-align: right;\">\n",
       "      <th></th>\n",
       "      <th>Unnamed: 0</th>\n",
       "      <th>Unnamed: 1</th>\n",
       "      <th>Unnamed: 2</th>\n",
       "      <th>Unnamed: 3</th>\n",
       "      <th>Unnamed: 4</th>\n",
       "      <th>Unnamed: 5</th>\n",
       "      <th>Unnamed: 6</th>\n",
       "      <th>Unnamed: 7</th>\n",
       "    </tr>\n",
       "  </thead>\n",
       "  <tbody>\n",
       "    <tr>\n",
       "      <th>0</th>\n",
       "      <td>2018</td>\n",
       "      <td>NaN</td>\n",
       "      <td>NaN</td>\n",
       "      <td>NaN</td>\n",
       "      <td>NaN</td>\n",
       "      <td>NaN</td>\n",
       "      <td>NaN</td>\n",
       "      <td>NaN</td>\n",
       "    </tr>\n",
       "    <tr>\n",
       "      <th>1</th>\n",
       "      <td>Date</td>\n",
       "      <td>Truck ID</td>\n",
       "      <td>Drive ID</td>\n",
       "      <td>KM Traveled</td>\n",
       "      <td>Liters</td>\n",
       "      <td>Fuel</td>\n",
       "      <td>Maintenance</td>\n",
       "      <td>Fixed Costs</td>\n",
       "    </tr>\n",
       "    <tr>\n",
       "      <th>2</th>\n",
       "      <td>2018-01-01 00:00:00</td>\n",
       "      <td>2</td>\n",
       "      <td>2</td>\n",
       "      <td>4594</td>\n",
       "      <td>1303.06</td>\n",
       "      <td>4077.49</td>\n",
       "      <td>1011.93</td>\n",
       "      <td>10502.595165</td>\n",
       "    </tr>\n",
       "    <tr>\n",
       "      <th>3</th>\n",
       "      <td>2018-01-01 00:00:00</td>\n",
       "      <td>6</td>\n",
       "      <td>4</td>\n",
       "      <td>3816</td>\n",
       "      <td>899.14</td>\n",
       "      <td>2813.7</td>\n",
       "      <td>1561.78</td>\n",
       "      <td>6092.156655</td>\n",
       "    </tr>\n",
       "    <tr>\n",
       "      <th>4</th>\n",
       "      <td>2018-01-01 00:00:00</td>\n",
       "      <td>17</td>\n",
       "      <td>9</td>\n",
       "      <td>7116</td>\n",
       "      <td>2128.46</td>\n",
       "      <td>6491</td>\n",
       "      <td>1324.12</td>\n",
       "      <td>11930.90331</td>\n",
       "    </tr>\n",
       "  </tbody>\n",
       "</table>\n",
       "</div>"
      ],
      "text/plain": [
       "            Unnamed: 0 Unnamed: 1 Unnamed: 2   Unnamed: 3 Unnamed: 4  \\\n",
       "0                 2018        NaN        NaN          NaN        NaN   \n",
       "1                 Date   Truck ID   Drive ID  KM Traveled     Liters   \n",
       "2  2018-01-01 00:00:00          2          2         4594    1303.06   \n",
       "3  2018-01-01 00:00:00          6          4         3816     899.14   \n",
       "4  2018-01-01 00:00:00         17          9         7116    2128.46   \n",
       "\n",
       "  Unnamed: 5   Unnamed: 6    Unnamed: 7  \n",
       "0        NaN          NaN           NaN  \n",
       "1       Fuel  Maintenance   Fixed Costs  \n",
       "2    4077.49      1011.93  10502.595165  \n",
       "3     2813.7      1561.78   6092.156655  \n",
       "4       6491      1324.12   11930.90331  "
      ]
     },
     "execution_count": 12,
     "metadata": {},
     "output_type": "execute_result"
    }
   ],
   "source": []
  }
 ],
 "metadata": {
  "kernelspec": {
   "display_name": "dats6202",
   "language": "python",
   "name": "dats6202"
  },
  "language_info": {
   "codemirror_mode": {
    "name": "ipython",
    "version": 3
   },
   "file_extension": ".py",
   "mimetype": "text/x-python",
   "name": "python",
   "nbconvert_exporter": "python",
   "pygments_lexer": "ipython3",
   "version": "3.12.1"
  }
 },
 "nbformat": 4,
 "nbformat_minor": 5
}
