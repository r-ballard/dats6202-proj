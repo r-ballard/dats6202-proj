{
 "cells": [
  {
   "cell_type": "markdown",
   "id": "6fff4ffe-12b8-4258-9f46-566711ba151b",
   "metadata": {
    "jp-MarkdownHeadingCollapsed": true
   },
   "source": [
    "# Table of Contents\n",
    "\n",
    "1. [Introduction](#introduction)"
   ]
  },
  {
   "cell_type": "markdown",
   "id": "827c582b-857e-422e-afc9-f2ead7908726",
   "metadata": {},
   "source": [
    "# Introduction\n",
    "<a id = \"introduction\"></a>"
   ]
  },
  {
   "cell_type": "code",
   "execution_count": null,
   "id": "29e6e933-a406-423e-a325-9abc91924a26",
   "metadata": {},
   "outputs": [],
   "source": [
    "import pandas\n",
    "import sklearn\n",
    "import numpy\n",
    "\n",
    "numpy.random.seed(20052)"
   ]
  },
  {
   "cell_type": "code",
   "execution_count": null,
   "id": "111b6cf0-a546-4796-b523-b50591b207d7",
   "metadata": {},
   "outputs": [],
   "source": []
  },
  {
   "cell_type": "code",
   "execution_count": null,
   "id": "21821444-3e0c-47be-807c-98e7c88cbc14",
   "metadata": {},
   "outputs": [],
   "source": []
  },
  {
   "cell_type": "code",
   "execution_count": null,
   "id": "1b4dc53a-78b2-43a9-aeeb-ffd8c2633206",
   "metadata": {},
   "outputs": [],
   "source": []
  }
 ],
 "metadata": {
  "kernelspec": {
   "display_name": "dats6202",
   "language": "python",
   "name": "dats6202"
  },
  "language_info": {
   "codemirror_mode": {
    "name": "ipython",
    "version": 3
   },
   "file_extension": ".py",
   "mimetype": "text/x-python",
   "name": "python",
   "nbconvert_exporter": "python",
   "pygments_lexer": "ipython3",
   "version": "3.12.1"
  }
 },
 "nbformat": 4,
 "nbformat_minor": 5
}
